{
 "cells": [
  {
   "cell_type": "code",
   "execution_count": 7,
   "id": "90282627-db7f-42fe-b2af-5a1832612c0b",
   "metadata": {},
   "outputs": [
    {
     "name": "stdin",
     "output_type": "stream",
     "text": [
      "Enter your percentage 67\n"
     ]
    },
    {
     "name": "stdout",
     "output_type": "stream",
     "text": [
      "C\n"
     ]
    }
   ],
   "source": [
    "##Q1 Write a program to accept percentage from the user and display the grade according to the following criteria:\n",
    "\n",
    "\n",
    "percent = int(input(\"Enter your percentage\"))\n",
    "\n",
    "if percent > 90:\n",
    "    print(\"A\")\n",
    "elif percent > 80 and percent <= 90:\n",
    "    print(\"B\")\n",
    "elif percent >= 60 and percent <= 80:\n",
    "    print(\"C\")\n",
    "else :\n",
    "    print(\"D\")\n"
   ]
  },
  {
   "cell_type": "code",
   "execution_count": 8,
   "id": "4f6c59c4-959a-4759-a0cf-05186582908a",
   "metadata": {},
   "outputs": [
    {
     "name": "stdin",
     "output_type": "stream",
     "text": [
      "Please enter the cost price of your bike 1000\n"
     ]
    },
    {
     "name": "stdout",
     "output_type": "stream",
     "text": [
      "Road tax : 50.0\n"
     ]
    }
   ],
   "source": [
    "###Q2 write a program to accept the cost price of a bike and display the road tax to be paid according to the criteria\n",
    "\n",
    "price = int(input(\"Please enter the cost price of your bike\"))\n",
    "\n",
    "if price > 100000:\n",
    "    print(\"Road tax : \", 15* price/100)\n",
    "elif price >50000 and price <= 100000:\n",
    "    print(\"Road tax : \",10* price/100)\n",
    "else:\n",
    "    print(\"Road tax :\",5*price/100)"
   ]
  },
  {
   "cell_type": "code",
   "execution_count": 9,
   "id": "54048597-9f76-44c9-969e-5f9ec6505285",
   "metadata": {},
   "outputs": [
    {
     "name": "stdin",
     "output_type": "stream",
     "text": [
      "Please enter the city name Delhi\n"
     ]
    },
    {
     "name": "stdout",
     "output_type": "stream",
     "text": [
      "monument : Red Fort\n"
     ]
    }
   ],
   "source": [
    "###Q3 Accept any city from the user and display the monuments of that city\n",
    "\n",
    "\n",
    "city = input(\"Please enter the city name\")\n",
    "\n",
    "if city == \"Delhi\":\n",
    "    print(\"monument : Red Fort\")\n",
    "elif city == \"Agra\":\n",
    "    print(\"monument : Taj mahal \")\n",
    "elif city == \"Jaipur\":\n",
    "    print(\"monument : Jai mahal\")"
   ]
  },
  {
   "cell_type": "code",
   "execution_count": 10,
   "id": "1146ffa3-35f7-420b-a326-c740d821fd30",
   "metadata": {},
   "outputs": [
    {
     "name": "stdin",
     "output_type": "stream",
     "text": [
      "please enter any number 27\n"
     ]
    },
    {
     "name": "stdout",
     "output_type": "stream",
     "text": [
      "your mumber is divided   1  times before it is less than or equal to 10\n"
     ]
    }
   ],
   "source": [
    "###Q4 check how many times a given number can be divided by 3 before it is less than or equal to 10\n",
    "\n",
    "number = int(input(\"please enter any number\"))\n",
    "\n",
    "count = 0\n",
    "while number > 10:\n",
    "    number = number /3 \n",
    "    count = count + 1\n",
    "else :\n",
    "    print(\"your mumber is divided  \",count,\" times before it is less than or equal to 10\")\n"
   ]
  },
  {
   "cell_type": "code",
   "execution_count": 11,
   "id": "a3d855a7-13fc-4845-9b88-a57c815fbc58",
   "metadata": {},
   "outputs": [],
   "source": [
    "###Q5 why and when to use while loop in python give a detailed description with example\n",
    "\n",
    "\n",
    "##Answer - \n",
    "\n",
    "##A while loop is used to execute the block of a code indefinely until a certain\n",
    "## condition is met stated in a loop\n",
    "## it will exit the loop once the  while statement in the code is stated as false\n",
    "\n",
    "## example of a while loop ---\n",
    "\n",
    "## i = 0 \n",
    "## while i < 100:\n",
    "##    print(i)\n",
    "##    i ++\n",
    "\n",
    "## here the while loop will from number 0 to 100 until the condition is met\n",
    "\n",
    "\n"
   ]
  },
  {
   "cell_type": "code",
   "execution_count": 1,
   "id": "cd626373-94a2-4115-bd72-8c721e62bd01",
   "metadata": {},
   "outputs": [],
   "source": [
    "## Q6 nested loop using conditions \n",
    "\n",
    "## pattern 1 - \n",
    "\n",
    "# i = 1 \n",
    "# j = 1\n",
    "\n",
    "# while i < 5 :\n",
    "#     while j <= i:\n",
    "#         print (j,end = \"\")\n",
    "#         j = j+1\n",
    "    \n",
    "#     print()\n",
    "#     j =1 \n",
    "#     i+=1\n",
    "\n",
    "\n",
    "## pattern 2 -\n",
    "\n",
    "# i = 1\n",
    "# j = 1\n",
    "\n",
    "# while i < 5:\n",
    "#     while j <=i: \n",
    "#         print(\"*\",end = \"\")\n",
    "#         j = j+1\n",
    "        \n",
    "#     print()\n",
    "#     j=1\n",
    "#     i+=1\n",
    "\n",
    "\n",
    "## pattern 3 -\n",
    "\n",
    "#     i = 1\n",
    "# while i <= 3:\n",
    "#     print(\"Outer Loop: \", i)\n",
    "#     j = 1\n",
    "#     while j <= 2:\n",
    "#         print(\"Inner Loop:\", j)\n",
    "#         j += 1\n",
    "#     i += 1"
   ]
  },
  {
   "cell_type": "code",
   "execution_count": null,
   "id": "229dea7a-c30a-4160-a340-55f377384f41",
   "metadata": {},
   "outputs": [],
   "source": [
    "## Q\n",
    "\n",
    "i = 10 \n",
    "\n",
    "while i > 0:\n",
    "    print(i,end= \" \")\n",
    "    i = i-1"
   ]
  }
 ],
 "metadata": {
  "kernelspec": {
   "display_name": "Python 3 (ipykernel)",
   "language": "python",
   "name": "python3"
  },
  "language_info": {
   "codemirror_mode": {
    "name": "ipython",
    "version": 3
   },
   "file_extension": ".py",
   "mimetype": "text/x-python",
   "name": "python",
   "nbconvert_exporter": "python",
   "pygments_lexer": "ipython3",
   "version": "3.10.6"
  }
 },
 "nbformat": 4,
 "nbformat_minor": 5
}
