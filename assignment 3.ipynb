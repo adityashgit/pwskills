{
 "cells": [
  {
   "cell_type": "code",
   "execution_count": 1,
   "id": "b0835510-7209-4965-851c-7da90b4eef3e",
   "metadata": {},
   "outputs": [],
   "source": [
    "##assignment no 3"
   ]
  },
  {
   "cell_type": "code",
   "execution_count": 2,
   "id": "5cd2d9f7-db99-42d1-bdea-1371d120f5a3",
   "metadata": {},
   "outputs": [],
   "source": [
    "#Question no 1 \n",
    "##Explain with an example when to use a for loop and a while loop?"
   ]
  },
  {
   "cell_type": "code",
   "execution_count": 3,
   "id": "839ad09a-e9b1-4cc0-b86f-bb7c2715ad5f",
   "metadata": {},
   "outputs": [],
   "source": [
    "# while loops are used when you want to keep executing a block of code as long as a certain conditions is met\n",
    "\n",
    "# #print number for 0 to 9\n",
    "# i =0\n",
    "# while i<10:\n",
    "#     print(i)\n",
    "#     i= i+1\n",
    "\n",
    "# wheresas \n",
    "\n",
    "# for loop are used when you have a known number of iterations or when you want to iterate a sequence (list,tuple,string,etc)\n",
    "# to perform an action for each item of the sequence\n",
    "\n",
    "# for i in range(10):\n",
    "#     print(i)"
   ]
  },
  {
   "cell_type": "code",
   "execution_count": 4,
   "id": "09d2f82c-86ca-4ded-8c95-2243108e3f5d",
   "metadata": {},
   "outputs": [
    {
     "name": "stdout",
     "output_type": "stream",
     "text": [
      "55\n",
      "3628800\n"
     ]
    }
   ],
   "source": [
    "#Question no 2\n",
    "##write a program \n",
    "\n",
    "# sum = 0\n",
    "# product = 1\n",
    "# i = 1\n",
    " \n",
    "# while i <= 10:\n",
    "#     sum = sum + i\n",
    "#     product = product * i\n",
    "#     i = i+1\n",
    "    \n",
    "# print(sum)\n",
    "# print(product)\n",
    "\n",
    "## using a for loop\n",
    "\n",
    "# sum = 0\n",
    "# product = 1\n",
    "\n",
    "# for i in range(1,11):\n",
    "#     sum = sum + 1\n",
    "#     product = product * i\n",
    "    \n",
    "# print (sum)\n",
    "# print (product)\n",
    "\n",
    "\n"
   ]
  },
  {
   "cell_type": "code",
   "execution_count": 7,
   "id": "0b8b834e-9506-4ccb-83c4-621837c704b6",
   "metadata": {},
   "outputs": [],
   "source": [
    "#Question no 3\n",
    "# Create a python program to compute the electricity bill for a household.\n",
    "# The per-unit charges in rupees are as follows: For the first 100 units, the user will be\n",
    "# charged Rs. 4.5 per unit, for the next 100 units, the user will be charged Rs. 6 per unit, \n",
    "# and for the next 100 units, the user will be charged Rs. 10 per unit, After 300 units \n",
    "# and above the user will be charged Rs. 20 per unit. You are required to take the \n",
    "# units of electricity consumed in a month from the user as input. Your program must pass \n",
    "# this test case: when the unit of electricity consumed by the user in a month is 310, \n",
    "# the total electricity bill should be 2250."
   ]
  },
  {
   "cell_type": "code",
   "execution_count": 8,
   "id": "248e23ab-fbcf-4894-b56b-c33f84e0e945",
   "metadata": {},
   "outputs": [],
   "source": [
    "# units = int(input(\"please enter the units consumed\"))\n",
    "\n",
    "# units = int(input(\"please enter the units consumed\"))\n",
    "\n",
    "# if units <= 100:\n",
    "#     print (\"the charge will be\", 4.5 * units)\n",
    "# elif units >100 and units <=200:\n",
    "#     charge = 4.5 * 100 + (units - 100)* 6\n",
    "#     print(charge)\n",
    "# elif units >200 and units <= 300:\n",
    "#     charge = 4.5 * 100 + 6 * 100 + (units - 200)* 10\n",
    "#     print(charge)\n",
    "# elif units >300:\n",
    "#     charge = 4.5 * 100 + 6 * 100 + 10 * 100 +  (units - 300)* 20\n",
    "#     print(charge)\n"
   ]
  },
  {
   "cell_type": "code",
   "execution_count": 9,
   "id": "af5b56bb-6c20-4768-b48f-b40d71b26d33",
   "metadata": {},
   "outputs": [],
   "source": [
    "##question 4\n",
    "# #  Create a list of numbers from 1 to 100. \n",
    "# Use for loop and while loop to calculate the cube of each number and\n",
    "# if the cube of that number is divisible by 4 or 5 then append that number in a list and print that list.\n",
    "\n",
    "##using a while loop\n",
    "# i = 1\n",
    "# cube = []\n",
    "# while i <= 100:\n",
    "#     l = i** 3\n",
    "#     if l % 4 == 0 or l % 5 == 0:\n",
    "#         cube.append(l)\n",
    "#     i = i +1\n",
    "# print(cube)\n",
    "\n",
    "\n",
    "## using a for loop\n",
    "# i = 1\n",
    "# cube = []\n",
    "# for i in range(1,101):\n",
    "#     l = i ** 3\n",
    "#     if l % 4 == 0 or l % 5 == 0:\n",
    "#         cube.append(l)\n",
    "    \n",
    "# print(cube)"
   ]
  },
  {
   "cell_type": "code",
   "execution_count": 10,
   "id": "62e26d5e-f85e-4fdd-99d8-e691e906d281",
   "metadata": {},
   "outputs": [],
   "source": [
    "##Write a program to filter count vowels in the below-given string. string = \"I want to become a data scientist\""
   ]
  },
  {
   "cell_type": "code",
   "execution_count": null,
   "id": "1b92b3eb-f94f-40c3-8d44-2935b87ad0c1",
   "metadata": {},
   "outputs": [],
   "source": [
    "# string = \"I want to become a data scientist\"\n",
    "\n",
    "# vowel = \"aeiouAEIOU\"\n",
    "# count = 0\n",
    "\n",
    "\n",
    "# for char in string:\n",
    "#     if char in vowel:\n",
    "#         count = count +1\n",
    "        \n",
    "# print (\"the number of vowel in the string is :\", count)"
   ]
  }
 ],
 "metadata": {
  "kernelspec": {
   "display_name": "Python 3 (ipykernel)",
   "language": "python",
   "name": "python3"
  },
  "language_info": {
   "codemirror_mode": {
    "name": "ipython",
    "version": 3
   },
   "file_extension": ".py",
   "mimetype": "text/x-python",
   "name": "python",
   "nbconvert_exporter": "python",
   "pygments_lexer": "ipython3",
   "version": "3.10.6"
  }
 },
 "nbformat": 4,
 "nbformat_minor": 5
}
