{
 "cells": [
  {
   "cell_type": "code",
   "execution_count": 1,
   "id": "9ba68e50-d90b-48fe-90d1-a3541ca6d935",
   "metadata": {},
   "outputs": [],
   "source": [
    "##dictionary formation "
   ]
  },
  {
   "cell_type": "code",
   "execution_count": 2,
   "id": "950c9d38-ac6f-4f6d-84f0-165c682c79c5",
   "metadata": {},
   "outputs": [],
   "source": [
    "d={} #if linear elemnent is added then it is called as dictionary and key is added then it is dictionary"
   ]
  },
  {
   "cell_type": "code",
   "execution_count": 3,
   "id": "55fabb3c-51ce-4690-8efe-16e41323abea",
   "metadata": {},
   "outputs": [
    {
     "data": {
      "text/plain": [
       "dict"
      ]
     },
     "execution_count": 3,
     "metadata": {},
     "output_type": "execute_result"
    }
   ],
   "source": [
    "type(d)"
   ]
  },
  {
   "cell_type": "code",
   "execution_count": 4,
   "id": "0db4705b-57eb-4ebc-a1fc-ce95956c38f5",
   "metadata": {},
   "outputs": [],
   "source": [
    "d1 = {'key':'sudh'}"
   ]
  },
  {
   "cell_type": "code",
   "execution_count": 5,
   "id": "e78ba5d6-d05a-4be3-adf8-dfaffdae9e1f",
   "metadata": {},
   "outputs": [
    {
     "data": {
      "text/plain": [
       "{'key': 'sudh'}"
      ]
     },
     "execution_count": 5,
     "metadata": {},
     "output_type": "execute_result"
    }
   ],
   "source": [
    "d1"
   ]
  },
  {
   "cell_type": "code",
   "execution_count": 6,
   "id": "1d3d2565-4f3f-4271-8076-0f66f744c15d",
   "metadata": {},
   "outputs": [],
   "source": [
    "d2 = {'name':'sudhanshu',\"email\":'ss@gmail.com','number':33445}"
   ]
  },
  {
   "cell_type": "code",
   "execution_count": 7,
   "id": "4f8fb18b-6209-4a1f-8653-867114095614",
   "metadata": {},
   "outputs": [
    {
     "data": {
      "text/plain": [
       "{'name': 'sudhanshu', 'email': 'ss@gmail.com', 'number': 33445}"
      ]
     },
     "execution_count": 7,
     "metadata": {},
     "output_type": "execute_result"
    }
   ],
   "source": [
    "d2"
   ]
  },
  {
   "cell_type": "code",
   "execution_count": 8,
   "id": "3c18bb36-8ef2-4357-86b4-6c23094060eb",
   "metadata": {},
   "outputs": [],
   "source": [
    "d3 = {234:'sudh','_wer' : 'kumar', True :24234}"
   ]
  },
  {
   "cell_type": "code",
   "execution_count": 9,
   "id": "c5a0647c-6f8e-4a74-94e1-1132a598949b",
   "metadata": {},
   "outputs": [
    {
     "data": {
      "text/plain": [
       "{234: 'sudh', '_wer': 'kumar', True: 24234}"
      ]
     },
     "execution_count": 9,
     "metadata": {},
     "output_type": "execute_result"
    }
   ],
   "source": [
    "d3"
   ]
  },
  {
   "cell_type": "code",
   "execution_count": 10,
   "id": "0f885f7c-b01e-45ce-ae28-94d362707226",
   "metadata": {},
   "outputs": [
    {
     "ename": "KeyError",
     "evalue": "0",
     "output_type": "error",
     "traceback": [
      "\u001b[0;31m---------------------------------------------------------------------------\u001b[0m",
      "\u001b[0;31mKeyError\u001b[0m                                  Traceback (most recent call last)",
      "Cell \u001b[0;32mIn[10], line 1\u001b[0m\n\u001b[0;32m----> 1\u001b[0m \u001b[43md3\u001b[49m\u001b[43m[\u001b[49m\u001b[38;5;241;43m0\u001b[39;49m\u001b[43m]\u001b[49m\n",
      "\u001b[0;31mKeyError\u001b[0m: 0"
     ]
    }
   ],
   "source": [
    "d3[0] ##indexing cant be used but key can be used"
   ]
  },
  {
   "cell_type": "code",
   "execution_count": 11,
   "id": "0bc86e2b-11ae-4099-a73f-57af628aa444",
   "metadata": {},
   "outputs": [
    {
     "data": {
      "text/plain": [
       "'sudh'"
      ]
     },
     "execution_count": 11,
     "metadata": {},
     "output_type": "execute_result"
    }
   ],
   "source": [
    "d3[234]"
   ]
  },
  {
   "cell_type": "code",
   "execution_count": 12,
   "id": "112ac09b-f363-4b57-918b-9bf26b3f1db5",
   "metadata": {},
   "outputs": [
    {
     "data": {
      "text/plain": [
       "24234"
      ]
     },
     "execution_count": 12,
     "metadata": {},
     "output_type": "execute_result"
    }
   ],
   "source": [
    "d3[1] ##boolean can also be used as 1 "
   ]
  },
  {
   "cell_type": "code",
   "execution_count": 13,
   "id": "5a174857-e337-4fcc-b95a-73eee58bcae4",
   "metadata": {},
   "outputs": [],
   "source": [
    "d4 = {'name':\"sudh\", \"mail-id\":\"ss@gmail.com\",\"name\":\"sudhanshu\"}"
   ]
  },
  {
   "cell_type": "code",
   "execution_count": 14,
   "id": "f36069ab-603f-4569-96a1-ea30d8d84436",
   "metadata": {},
   "outputs": [
    {
     "data": {
      "text/plain": [
       "'sudhanshu'"
      ]
     },
     "execution_count": 14,
     "metadata": {},
     "output_type": "execute_result"
    }
   ],
   "source": [
    "d4['name'] ##it is a key thus it will overite 1st value and give the second value"
   ]
  },
  {
   "cell_type": "code",
   "execution_count": 15,
   "id": "50a929eb-2863-4728-a062-6176e0e3bae2",
   "metadata": {},
   "outputs": [],
   "source": [
    "d5 = {\"company\":\"pwskills\",\"course\":[\"web dev\",\"data science\",\"java with dsa\"]} ##list as a data"
   ]
  },
  {
   "cell_type": "code",
   "execution_count": 16,
   "id": "098e4f8d-458d-463b-9f78-b0f8aeabf350",
   "metadata": {},
   "outputs": [
    {
     "data": {
      "text/plain": [
       "{'company': 'pwskills', 'course': ['web dev', 'data science', 'java with dsa']}"
      ]
     },
     "execution_count": 16,
     "metadata": {},
     "output_type": "execute_result"
    }
   ],
   "source": [
    "d5"
   ]
  },
  {
   "cell_type": "code",
   "execution_count": 18,
   "id": "26b3f7a9-668b-4a8c-9033-1087916d6bba",
   "metadata": {},
   "outputs": [
    {
     "data": {
      "text/plain": [
       "['web dev', 'data science', 'java with dsa']"
      ]
     },
     "execution_count": 18,
     "metadata": {},
     "output_type": "execute_result"
    }
   ],
   "source": [
    "d5['course']"
   ]
  },
  {
   "cell_type": "code",
   "execution_count": 19,
   "id": "378e33ce-d9b3-4b82-8d17-1eb68c9cd995",
   "metadata": {},
   "outputs": [
    {
     "data": {
      "text/plain": [
       "'java with dsa'"
      ]
     },
     "execution_count": 19,
     "metadata": {},
     "output_type": "execute_result"
    }
   ],
   "source": [
    "d5['course'][2]"
   ]
  },
  {
   "cell_type": "code",
   "execution_count": 22,
   "id": "66249776-2a39-48eb-a290-54d57c37bcd7",
   "metadata": {},
   "outputs": [],
   "source": [
    "d6 = {\"number\":[2,34,3,34,34] ,\"assignment\":(1,2,3,4,5,6),\"launch_data\":{28,12,14},\"class_time\":{\"web_dev\":8,\"data science masters\":8,\"java with dsa and system design\":7}}"
   ]
  },
  {
   "cell_type": "code",
   "execution_count": 25,
   "id": "b7b8a169-688a-4595-8e31-00dc09513ee4",
   "metadata": {},
   "outputs": [
    {
     "data": {
      "text/plain": [
       "{'number': [2, 34, 3, 34, 34],\n",
       " 'assignment': (1, 2, 3, 4, 5, 6),\n",
       " 'launch_data': {12, 14, 28},\n",
       " 'class_time': {'web_dev': 8,\n",
       "  'data science masters': 8,\n",
       "  'java with dsa and system design': 7}}"
      ]
     },
     "execution_count": 25,
     "metadata": {},
     "output_type": "execute_result"
    }
   ],
   "source": [
    "d6"
   ]
  },
  {
   "cell_type": "code",
   "execution_count": 29,
   "id": "d37ff63c-3c90-45d3-91ac-43ae717bf3f5",
   "metadata": {},
   "outputs": [
    {
     "data": {
      "text/plain": [
       "8"
      ]
     },
     "execution_count": 29,
     "metadata": {},
     "output_type": "execute_result"
    }
   ],
   "source": [
    "d6['class_time']['web_dev']\n"
   ]
  },
  {
   "cell_type": "code",
   "execution_count": 30,
   "id": "391e535b-812c-40f5-b92b-f69cc6ff5b6a",
   "metadata": {},
   "outputs": [
    {
     "data": {
      "text/plain": [
       "{'number': [2, 34, 3, 34, 34],\n",
       " 'assignment': (1, 2, 3, 4, 5, 6),\n",
       " 'launch_data': {12, 14, 28},\n",
       " 'class_time': {'web_dev': 8,\n",
       "  'data science masters': 8,\n",
       "  'java with dsa and system design': 7}}"
      ]
     },
     "execution_count": 30,
     "metadata": {},
     "output_type": "execute_result"
    }
   ],
   "source": [
    "d6"
   ]
  },
  {
   "cell_type": "code",
   "execution_count": 31,
   "id": "c5f90c2d-c915-4b15-9f12-1a949270997d",
   "metadata": {},
   "outputs": [],
   "source": [
    "d6['mentor']=[\"sudhanshu\",\"krish\",\"anurag\",\"hayder\"] ##to add the data"
   ]
  },
  {
   "cell_type": "code",
   "execution_count": 32,
   "id": "e566a520-4ae8-4275-9c4b-46821cdcbb4f",
   "metadata": {},
   "outputs": [
    {
     "data": {
      "text/plain": [
       "{'number': [2, 34, 3, 34, 34],\n",
       " 'assignment': (1, 2, 3, 4, 5, 6),\n",
       " 'launch_data': {12, 14, 28},\n",
       " 'class_time': {'web_dev': 8,\n",
       "  'data science masters': 8,\n",
       "  'java with dsa and system design': 7},\n",
       " 'mentor': ['sudhanshu', 'krish', 'anurag', 'hayder']}"
      ]
     },
     "execution_count": 32,
     "metadata": {},
     "output_type": "execute_result"
    }
   ],
   "source": [
    "d6"
   ]
  },
  {
   "cell_type": "code",
   "execution_count": 33,
   "id": "42cb4b3c-8d7b-406b-b182-612189be6240",
   "metadata": {},
   "outputs": [],
   "source": [
    "del d6['number'] ##to delete any number"
   ]
  },
  {
   "cell_type": "code",
   "execution_count": 34,
   "id": "a8e19d10-33d4-41bb-b532-bd4c89670136",
   "metadata": {},
   "outputs": [
    {
     "data": {
      "text/plain": [
       "{'assignment': (1, 2, 3, 4, 5, 6),\n",
       " 'launch_data': {12, 14, 28},\n",
       " 'class_time': {'web_dev': 8,\n",
       "  'data science masters': 8,\n",
       "  'java with dsa and system design': 7},\n",
       " 'mentor': ['sudhanshu', 'krish', 'anurag', 'hayder']}"
      ]
     },
     "execution_count": 34,
     "metadata": {},
     "output_type": "execute_result"
    }
   ],
   "source": [
    "d6"
   ]
  },
  {
   "cell_type": "code",
   "execution_count": 35,
   "id": "9f194b09-3c99-4e2b-8dad-06a2eb604772",
   "metadata": {},
   "outputs": [
    {
     "data": {
      "text/plain": [
       "dict_keys(['assignment', 'launch_data', 'class_time', 'mentor'])"
      ]
     },
     "execution_count": 35,
     "metadata": {},
     "output_type": "execute_result"
    }
   ],
   "source": [
    "d6.keys()"
   ]
  },
  {
   "cell_type": "code",
   "execution_count": 36,
   "id": "024bc6ed-09a0-435e-9603-738ca551e6ca",
   "metadata": {},
   "outputs": [
    {
     "data": {
      "text/plain": [
       "dict_values([(1, 2, 3, 4, 5, 6), {28, 12, 14}, {'web_dev': 8, 'data science masters': 8, 'java with dsa and system design': 7}, ['sudhanshu', 'krish', 'anurag', 'hayder']])"
      ]
     },
     "execution_count": 36,
     "metadata": {},
     "output_type": "execute_result"
    }
   ],
   "source": [
    "d6.values()"
   ]
  },
  {
   "cell_type": "code",
   "execution_count": 38,
   "id": "d620488a-f004-465e-8032-dd461c4c058a",
   "metadata": {},
   "outputs": [
    {
     "data": {
      "text/plain": [
       "['assignment', 'launch_data', 'class_time', 'mentor']"
      ]
     },
     "execution_count": 38,
     "metadata": {},
     "output_type": "execute_result"
    }
   ],
   "source": [
    "list(d6.keys())     ##to convert in the keys"
   ]
  },
  {
   "cell_type": "code",
   "execution_count": 39,
   "id": "72f3a36e-e7fa-4cf5-b76b-6f5d5a89fee8",
   "metadata": {},
   "outputs": [
    {
     "data": {
      "text/plain": [
       "('assignment', 'launch_data', 'class_time', 'mentor')"
      ]
     },
     "execution_count": 39,
     "metadata": {},
     "output_type": "execute_result"
    }
   ],
   "source": [
    "tuple(d6.keys()) ##to convert in the tuple"
   ]
  },
  {
   "cell_type": "code",
   "execution_count": 40,
   "id": "7397fbeb-6d99-49ae-8a00-0e1b6808130b",
   "metadata": {},
   "outputs": [
    {
     "data": {
      "text/plain": [
       "[('assignment', (1, 2, 3, 4, 5, 6)),\n",
       " ('launch_data', {12, 14, 28}),\n",
       " ('class_time',\n",
       "  {'web_dev': 8,\n",
       "   'data science masters': 8,\n",
       "   'java with dsa and system design': 7}),\n",
       " ('mentor', ['sudhanshu', 'krish', 'anurag', 'hayder'])]"
      ]
     },
     "execution_count": 40,
     "metadata": {},
     "output_type": "execute_result"
    }
   ],
   "source": [
    "list(d6.items())"
   ]
  },
  {
   "cell_type": "code",
   "execution_count": 41,
   "id": "b1028229-e118-4907-85a2-c8df4b0eff5e",
   "metadata": {},
   "outputs": [
    {
     "data": {
      "text/plain": [
       "(1, 2, 3, 4, 5, 6)"
      ]
     },
     "execution_count": 41,
     "metadata": {},
     "output_type": "execute_result"
    }
   ],
   "source": [
    "d6.pop('assignment') ##to remove the values"
   ]
  },
  {
   "cell_type": "code",
   "execution_count": 42,
   "id": "14ce757e-5bf7-490a-9b2f-a70561a319a2",
   "metadata": {},
   "outputs": [
    {
     "data": {
      "text/plain": [
       "{'launch_data': {12, 14, 28},\n",
       " 'class_time': {'web_dev': 8,\n",
       "  'data science masters': 8,\n",
       "  'java with dsa and system design': 7},\n",
       " 'mentor': ['sudhanshu', 'krish', 'anurag', 'hayder']}"
      ]
     },
     "execution_count": 42,
     "metadata": {},
     "output_type": "execute_result"
    }
   ],
   "source": [
    "d6"
   ]
  },
  {
   "cell_type": "code",
   "execution_count": 43,
   "id": "5711f249-34b2-4056-8e93-d9b2c8cbabed",
   "metadata": {},
   "outputs": [
    {
     "ename": "TypeError",
     "evalue": "pop expected at least 1 argument, got 0",
     "output_type": "error",
     "traceback": [
      "\u001b[0;31m---------------------------------------------------------------------------\u001b[0m",
      "\u001b[0;31mTypeError\u001b[0m                                 Traceback (most recent call last)",
      "Cell \u001b[0;32mIn[43], line 1\u001b[0m\n\u001b[0;32m----> 1\u001b[0m \u001b[43md6\u001b[49m\u001b[38;5;241;43m.\u001b[39;49m\u001b[43mpop\u001b[49m\u001b[43m(\u001b[49m\u001b[43m)\u001b[49m\n",
      "\u001b[0;31mTypeError\u001b[0m: pop expected at least 1 argument, got 0"
     ]
    }
   ],
   "source": [
    "d6.pop() ##in list it will pop out the last number as it was ordered list but in case of dictionary it will not pop out the data"
   ]
  },
  {
   "cell_type": "code",
   "execution_count": 44,
   "id": "d8b6b2ec-aece-426f-8cf2-8c54dfdf0d40",
   "metadata": {},
   "outputs": [
    {
     "name": "stdout",
     "output_type": "stream",
     "text": [
      "you will be a part of A3 Batch\n"
     ]
    }
   ],
   "source": [
    "marks = 34\n",
    "if marks >= 80:\n",
    "    print(\"you will be part of A0 batch\")\n",
    "elif marks >=60 and marks <80:\n",
    "    print(\"you will be a part of A1 Batch\")\n",
    "elif marks >=40 and marks <60:\n",
    "    print(\"you will be a part of A2 batch\") \n",
    "else:\n",
    "    print(\"you will be a part of A3 Batch\")"
   ]
  },
  {
   "cell_type": "code",
   "execution_count": 45,
   "id": "c2824167-07e2-469e-a384-e18c2d3b1fd4",
   "metadata": {},
   "outputs": [],
   "source": [
    "##if two conditions are true then our first statement will be executed\n"
   ]
  },
  {
   "cell_type": "code",
   "execution_count": 46,
   "id": "b51fb054-53a4-4cf4-b533-c9a1b264e404",
   "metadata": {},
   "outputs": [],
   "source": [
    "##for user input"
   ]
  },
  {
   "cell_type": "code",
   "execution_count": 48,
   "id": "973734c5-4ee7-4bde-a1e9-0017c572324a",
   "metadata": {},
   "outputs": [
    {
     "name": "stdin",
     "output_type": "stream",
     "text": [
      "enter your marks 45\n"
     ]
    },
    {
     "name": "stdout",
     "output_type": "stream",
     "text": [
      "you will be a part of A2 batch\n"
     ]
    }
   ],
   "source": [
    "marks = int(input(\"enter your marks\")) ##input will convert it in string so use int or float\n",
    "if marks >= 80:\n",
    "    print(\"you will be part of A0 batch\")\n",
    "elif marks >=60 and marks <80:\n",
    "    print(\"you will be a part of A1 Batch\")\n",
    "elif marks >=40 and marks <60:\n",
    "    print(\"you will be a part of A2 batch\") \n",
    "else:\n",
    "    print(\"you will be a part of A3 Batch\")"
   ]
  },
  {
   "cell_type": "code",
   "execution_count": 49,
   "id": "341b0171-ea2a-400a-8fb7-df6859d83f36",
   "metadata": {},
   "outputs": [
    {
     "data": {
      "text/plain": [
       "45"
      ]
     },
     "execution_count": 49,
     "metadata": {},
     "output_type": "execute_result"
    }
   ],
   "source": [
    "marks"
   ]
  },
  {
   "cell_type": "code",
   "execution_count": 50,
   "id": "0126ec2d-ffcb-4bb7-a225-4b0021348fe0",
   "metadata": {},
   "outputs": [
    {
     "data": {
      "text/plain": [
       "int"
      ]
     },
     "execution_count": 50,
     "metadata": {},
     "output_type": "execute_result"
    }
   ],
   "source": [
    "type(marks)"
   ]
  },
  {
   "cell_type": "code",
   "execution_count": 52,
   "id": "91deee8a-4e18-4409-9478-629c1d2641dd",
   "metadata": {},
   "outputs": [
    {
     "name": "stdin",
     "output_type": "stream",
     "text": [
      "enter price 200\n"
     ]
    },
    {
     "name": "stdout",
     "output_type": "stream",
     "text": [
      "i will purchase\n"
     ]
    }
   ],
   "source": [
    "price = int(input(\"enter price\"))\n",
    "if price > 1000:\n",
    "    print(\"i will not purchase\")\n",
    "else :\n",
    "    print(\"i will purchase\")"
   ]
  },
  {
   "cell_type": "code",
   "execution_count": 58,
   "id": "ed20759a-f8c1-4a0a-a3e1-7a0022144beb",
   "metadata": {},
   "outputs": [
    {
     "name": "stdin",
     "output_type": "stream",
     "text": [
      "enter price 566\n"
     ]
    },
    {
     "name": "stdout",
     "output_type": "stream",
     "text": [
      "it ok\n"
     ]
    }
   ],
   "source": [
    "price = int(input(\"enter price\"))\n",
    "if price > 1000:\n",
    "    print(\"i will not purchase\")\n",
    "    if price > 5000:\n",
    "        print(\"this is too much\")\n",
    "    elif price < 2000:\n",
    "        print(\"it's okay kind of price\")\n",
    "elif price <1000 :\n",
    "    print(\"it ok\")\n",
    "else:\n",
    "    print(\"not interested\")"
   ]
  },
  {
   "cell_type": "code",
   "execution_count": 59,
   "id": "d43ea157-b72a-4a6a-b99e-d9567324d0f0",
   "metadata": {},
   "outputs": [],
   "source": [
    "l = [1,2,3,3,4,5,6,7,8] ##how to add 1 to all the values"
   ]
  },
  {
   "cell_type": "code",
   "execution_count": 60,
   "id": "dfcb1d2c-c012-4865-824c-2846ee5a037d",
   "metadata": {},
   "outputs": [
    {
     "data": {
      "text/plain": [
       "2"
      ]
     },
     "execution_count": 60,
     "metadata": {},
     "output_type": "execute_result"
    }
   ],
   "source": [
    "l[0]+1"
   ]
  },
  {
   "cell_type": "code",
   "execution_count": 65,
   "id": "3ddd9971-beec-4ad0-bf8b-01bfee8dc735",
   "metadata": {},
   "outputs": [],
   "source": [
    "l1 = []"
   ]
  },
  {
   "cell_type": "code",
   "execution_count": 67,
   "id": "d82a3b33-b41f-4e74-8ea7-44dac1213fe8",
   "metadata": {},
   "outputs": [],
   "source": [
    "l1.append(l[0]+1)"
   ]
  },
  {
   "cell_type": "code",
   "execution_count": 68,
   "id": "f49c5450-76c7-49c5-a4c2-c4e00adb4c5c",
   "metadata": {},
   "outputs": [
    {
     "data": {
      "text/plain": [
       "[2]"
      ]
     },
     "execution_count": 68,
     "metadata": {},
     "output_type": "execute_result"
    }
   ],
   "source": [
    "l1"
   ]
  },
  {
   "cell_type": "code",
   "execution_count": null,
   "id": "98eb72d1-1eac-4e92-8535-3c83b78a024c",
   "metadata": {},
   "outputs": [],
   "source": [
    "##but we can also use loop for this purpose"
   ]
  },
  {
   "cell_type": "code",
   "execution_count": 69,
   "id": "f3c09b26-0a6b-4ce1-8156-611a3edebb57",
   "metadata": {},
   "outputs": [
    {
     "name": "stdout",
     "output_type": "stream",
     "text": [
      "1\n",
      "2\n",
      "3\n",
      "3\n",
      "4\n",
      "5\n",
      "6\n",
      "7\n",
      "8\n"
     ]
    }
   ],
   "source": [
    "for i in l:\n",
    "    print(i)"
   ]
  },
  {
   "cell_type": "code",
   "execution_count": 71,
   "id": "4bc66605-9b06-4cb3-a377-30d041fbb15a",
   "metadata": {},
   "outputs": [
    {
     "name": "stdout",
     "output_type": "stream",
     "text": [
      "2\n",
      "3\n",
      "4\n",
      "4\n",
      "5\n",
      "6\n",
      "7\n",
      "8\n",
      "9\n"
     ]
    },
    {
     "data": {
      "text/plain": [
       "[2, 2, 3, 4, 4, 5, 6, 7, 8, 9]"
      ]
     },
     "execution_count": 71,
     "metadata": {},
     "output_type": "execute_result"
    }
   ],
   "source": [
    "for i in l :\n",
    "    print(i+1)\n",
    "    l1.append(i+1)\n",
    "    \n",
    "l1"
   ]
  },
  {
   "cell_type": "code",
   "execution_count": 72,
   "id": "d1d73021-1e70-467b-9307-a6a89c7dada8",
   "metadata": {},
   "outputs": [
    {
     "data": {
      "text/plain": [
       "[1, 2, 3, 3, 4, 5, 6, 7, 8]"
      ]
     },
     "execution_count": 72,
     "metadata": {},
     "output_type": "execute_result"
    }
   ],
   "source": [
    "l"
   ]
  },
  {
   "cell_type": "code",
   "execution_count": 73,
   "id": "f4d814e6-18ae-456f-a3a2-cf32e9c9e1c2",
   "metadata": {},
   "outputs": [],
   "source": [
    "l = [\"sudh\",\"kumar\",\"pwskills\",\"course\"]"
   ]
  },
  {
   "cell_type": "code",
   "execution_count": 76,
   "id": "b6b5356a-816b-47fd-a379-69581bbf1143",
   "metadata": {},
   "outputs": [
    {
     "name": "stdout",
     "output_type": "stream",
     "text": [
      "sudh\n",
      "kumar\n",
      "pwskills\n",
      "course\n"
     ]
    }
   ],
   "source": [
    "l1 = []\n",
    "for i in l :\n",
    "    print(i)\n",
    "    l1.append(i.upper())"
   ]
  },
  {
   "cell_type": "code",
   "execution_count": 77,
   "id": "a2ebda76-e0ed-4b36-8e0a-e5056a384d12",
   "metadata": {},
   "outputs": [
    {
     "data": {
      "text/plain": [
       "['SUDH', 'KUMAR', 'PWSKILLS', 'COURSE']"
      ]
     },
     "execution_count": 77,
     "metadata": {},
     "output_type": "execute_result"
    }
   ],
   "source": [
    "l1"
   ]
  },
  {
   "cell_type": "code",
   "execution_count": 79,
   "id": "90e51a64-adea-4ad9-91dc-db53e1da2bf2",
   "metadata": {},
   "outputs": [],
   "source": [
    "l = [1,2,3,4,4,'sudh','kumar',324,34.456,\"abc\"] ##make 2 seperate list with integer and one with list"
   ]
  },
  {
   "cell_type": "code",
   "execution_count": 82,
   "id": "95ae87bf-33b5-49b3-9c2f-02bb77b2c9f1",
   "metadata": {},
   "outputs": [],
   "source": [
    "l1_num = []\n",
    "l2_str = []"
   ]
  },
  {
   "cell_type": "code",
   "execution_count": 83,
   "id": "be4d9047-5074-4000-96be-a19f46a825b5",
   "metadata": {},
   "outputs": [],
   "source": [
    "for i in l :\n",
    "    if type(i) == int or type(i) == float:\n",
    "        l1_num.append(i)\n",
    "    else:\n",
    "        l2_str.append(i)"
   ]
  },
  {
   "cell_type": "code",
   "execution_count": 84,
   "id": "d1352eb4-a2fe-45ae-8d66-481147ac1225",
   "metadata": {},
   "outputs": [
    {
     "data": {
      "text/plain": [
       "[1, 2, 3, 4, 4, 324, 34.456]"
      ]
     },
     "execution_count": 84,
     "metadata": {},
     "output_type": "execute_result"
    }
   ],
   "source": [
    "l1_num"
   ]
  },
  {
   "cell_type": "code",
   "execution_count": 86,
   "id": "2def85b8-1ddf-46c0-b5dc-f18fcf64711f",
   "metadata": {},
   "outputs": [],
   "source": [
    "l2_str.sort()"
   ]
  },
  {
   "cell_type": "code",
   "execution_count": 87,
   "id": "67935e87-0a5d-442e-859f-2af052fc199b",
   "metadata": {},
   "outputs": [
    {
     "data": {
      "text/plain": [
       "['abc', 'kumar', 'sudh']"
      ]
     },
     "execution_count": 87,
     "metadata": {},
     "output_type": "execute_result"
    }
   ],
   "source": [
    "l2_str"
   ]
  },
  {
   "cell_type": "code",
   "execution_count": null,
   "id": "668fffa3-0c4e-4865-bc03-0f697e360ffb",
   "metadata": {},
   "outputs": [],
   "source": []
  }
 ],
 "metadata": {
  "kernelspec": {
   "display_name": "Python 3 (ipykernel)",
   "language": "python",
   "name": "python3"
  },
  "language_info": {
   "codemirror_mode": {
    "name": "ipython",
    "version": 3
   },
   "file_extension": ".py",
   "mimetype": "text/x-python",
   "name": "python",
   "nbconvert_exporter": "python",
   "pygments_lexer": "ipython3",
   "version": "3.10.8"
  }
 },
 "nbformat": 4,
 "nbformat_minor": 5
}
